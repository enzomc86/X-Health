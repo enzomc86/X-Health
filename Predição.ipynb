{
 "cells": [
  {
   "cell_type": "code",
   "execution_count": 1,
   "id": "c92241da-1185-400d-b814-06315d2a06cd",
   "metadata": {},
   "outputs": [],
   "source": [
    "import pandas as pd\n",
    "import numpy as np\n",
    "import joblib\n",
    "from sklearn.ensemble import RandomForestClassifier\n",
    "modelo_forest = joblib.load('modelo_random_forest.pkl')"
   ]
  },
  {
   "cell_type": "code",
   "execution_count": 2,
   "id": "ca801d5d-a6b1-4099-a894-bf3752c3b10d",
   "metadata": {},
   "outputs": [],
   "source": [
    "# Lista com as 9 features finais utilizadas pelo modelo\n",
    "FEATURES_FINAIS = [\n",
    "    'ioi_36months', 'ioi_3months', 'valor_total_pedido', 'valor_quitado',\n",
    "    'valor_vencido', 'quant_protestos', 'razao_vencido_total',\n",
    "    'tem_restricoes', 'forma_pagamento_missing'\n",
    "]\n",
    "\n",
    "# Subconjunto: features numéricas\n",
    "FEATURES_NUMERICAS = [\n",
    "    'ioi_36months', 'ioi_3months', 'valor_total_pedido', 'valor_quitado',\n",
    "    'valor_vencido', 'quant_protestos', 'razao_vencido_total'\n",
    "]\n",
    "\n",
    "# Subconjunto: features booleanas\n",
    "FEATURES_BINARIAS = ['tem_restricoes', 'forma_pagamento_missing']\n"
   ]
  },
  {
   "cell_type": "code",
   "execution_count": 3,
   "id": "256b7977-e187-4f51-885c-cbd2eec086b9",
   "metadata": {},
   "outputs": [],
   "source": [
    "def criar_features_derivadas(dados):\n",
    "    \"\"\"\n",
    "    - tem_restricoes: se o cliente tem protestos, ações ou dívidas\n",
    "    - razao_vencido_total: proporção do valor vencido em relação ao total do pedido\n",
    "    - forma_pagamento_missing: flag se a forma de pagamento está ausente\n",
    "    \"\"\"\n",
    "    dados_processados = dados.copy()\n",
    "    \n",
    "    # Flag se existem restrições (protestos, ações judiciais ou dívidas vencidas)\n",
    "    tem_protestos = dados.get('quant_protestos', 0) > 0\n",
    "    tem_acoes = dados.get('quant_acao_judicial', 0) > 0\n",
    "    tem_dividas = dados.get('dividas_vencidas_qtd', 0) > 0\n",
    "    dados_processados['tem_restricoes'] = int(tem_protestos or tem_acoes or tem_dividas)\n",
    "    \n",
    "    # Razão valor vencido / total (evita divisão por zero somando +1)\n",
    "    valor_vencido = dados.get('valor_vencido', 0)\n",
    "    valor_total_pedido = dados.get('valor_total_pedido', 0)\n",
    "    dados_processados['razao_vencido_total'] = valor_vencido / (valor_total_pedido + 1)\n",
    "    \n",
    "    # Variável indicando ausência de forma de pagamento\n",
    "    forma_pagamento = dados.get('forma_pagamento')\n",
    "    dados_processados['forma_pagamento_missing'] = int(forma_pagamento is None or pd.isna(forma_pagamento))\n",
    "    \n",
    "    return dados_processados\n"
   ]
  },
  {
   "cell_type": "code",
   "execution_count": 4,
   "id": "3e77bfc2-248e-4d80-9b40-d6594f511f51",
   "metadata": {},
   "outputs": [],
   "source": [
    "def preprocessar_para_modelo(dados):\n",
    "    \"\"\"\n",
    "    - Cria features derivadas\n",
    "    - Garante que todas as features finais estão presentes\n",
    "    - Converte numéricas e binárias corretamente\n",
    "    \"\"\"\n",
    "    dados_processados = criar_features_derivadas(dados)\n",
    "    df_input = pd.DataFrame(index=[0])\n",
    "    \n",
    "    # Preenche todas as features necessárias\n",
    "    for feature in FEATURES_FINAIS:\n",
    "        df_input[feature] = dados_processados.get(feature, 0)\n",
    "    \n",
    "    # Converte numéricas\n",
    "    for feature in FEATURES_NUMERICAS:\n",
    "        df_input[feature] = pd.to_numeric(df_input[feature], errors='coerce').fillna(0)\n",
    "    \n",
    "    # Converte binárias\n",
    "    for feature in FEATURES_BINARIAS:\n",
    "        df_input[feature] = df_input[feature].astype(int)\n",
    "    \n",
    "    return df_input\n",
    "\n"
   ]
  },
  {
   "cell_type": "code",
   "execution_count": 5,
   "id": "34fc2767-7b98-4043-a031-badc62970bac",
   "metadata": {},
   "outputs": [],
   "source": [
    "def predict_default(input_dict):\n",
    "    \"\"\"\n",
    "    Função de predição que recebe um dicionário com novos dados\n",
    "    e retorna a predição de default\n",
    "    \"\"\"\n",
    "    try:\n",
    "        # Pré-processar dados\n",
    "        df = preprocessar_para_modelo(input_dict)\n",
    "        \n",
    "        # Predição usando o modelo\n",
    "        predicao = modelo_forest.predict(df)[0]\n",
    "        \n",
    "        return {\"default\": int(predicao)}\n",
    "    \n",
    "    except Exception as e:\n",
    "        print(f\"Erro na predição: {e}\")\n",
    "        return {\"default\": None}\n"
   ]
  },
  {
   "cell_type": "code",
   "execution_count": 7,
   "id": "90684e18-502d-4bce-877d-47b09416bfa1",
   "metadata": {},
   "outputs": [
    {
     "name": "stdout",
     "output_type": "stream",
     "text": [
      "Resultado: {'default': 0}\n"
     ]
    }
   ],
   "source": [
    "input_dict = {\"ioi_36months\": 5,        \n",
    "    \"ioi_3months\": 2,         \n",
    "    \"valor_total_pedido\": 50000,\n",
    "    \"valor_quitado\": 10000,\n",
    "    \"valor_vencido\": 20000,\n",
    "    \"quant_protestos\": 1,\n",
    "    \"quant_acao_judicial\": 2,\n",
    "    \"dividas_vencidas_qtd\": 3,\n",
    "    \"forma_pagamento\": \"boleto\"}\n",
    "resultado = predict_default(input_dict)\n",
    "print(f\"Resultado: {resultado}\")\n",
    "\n"
   ]
  },
  {
   "cell_type": "code",
   "execution_count": null,
   "id": "ad82452b-535c-4501-b3c2-eb7182fea772",
   "metadata": {},
   "outputs": [],
   "source": []
  }
 ],
 "metadata": {
  "kernelspec": {
   "display_name": "Python 3 (ipykernel)",
   "language": "python",
   "name": "python3"
  },
  "language_info": {
   "codemirror_mode": {
    "name": "ipython",
    "version": 3
   },
   "file_extension": ".py",
   "mimetype": "text/x-python",
   "name": "python",
   "nbconvert_exporter": "python",
   "pygments_lexer": "ipython3",
   "version": "3.12.10"
  }
 },
 "nbformat": 4,
 "nbformat_minor": 5
}
